{
 "cells": [
  {
   "cell_type": "code",
   "execution_count": null,
   "id": "aeb73acc-38f9-48b1-a758-2c6d56c7b31c",
   "metadata": {},
   "outputs": [],
   "source": [
    "Q1. Explain GET and POST methods."
   ]
  },
  {
   "cell_type": "code",
   "execution_count": null,
   "id": "e3669973-e239-45b9-8fc4-667cee399fcc",
   "metadata": {},
   "outputs": [],
   "source": [
    "GET Method:\n",
    "The GET method is used to request data from a server. It retrieves information without making any changes to the data on the server.When the form is submitted, the data is appended to the URL as query parameters, \n",
    "The POST method is used to send data to a server to create or update resources. The data is included in the body of the HTTP request."
   ]
  },
  {
   "cell_type": "code",
   "execution_count": null,
   "id": "3070eecd-07af-41d5-9425-43e9b28dbf1b",
   "metadata": {},
   "outputs": [],
   "source": [
    "Flask Example:\n",
    "from flask import Flask, request\n",
    "\n",
    "app = Flask(__name__)\n",
    "\n",
    "@app.route('/submit', methods=['GET', 'POST'])\n",
    "def submit():\n",
    "    if request.method == 'GET':\n",
    "        name = request.args.get('name')\n",
    "        age = request.args.get('age')\n",
    "        return f\"GET method received: Name={name}, Age={age}\"\n",
    "    elif request.method == 'POST':\n",
    "        name = request.form['name']\n",
    "        age = request.form['age']\n",
    "        return f\"POST method received: Name={name}, Age={age}\""
   ]
  },
  {
   "cell_type": "code",
   "execution_count": null,
   "id": "8c86320a-2f7b-45c6-af41-daa83af2074f",
   "metadata": {},
   "outputs": [],
   "source": [
    "Q2. Why is request Used in Flask?\n",
    "The request object in Flask is used to access incoming request data, such as form data, query parameters, and headers. It allows the application to handle and process data sent by the client.\n",
    "\n",
    "Example\n",
    "python\n",
    "Copy code\n",
    "from flask import Flask, request\n",
    "\n",
    "app = Flask(__name__)\n",
    "\n",
    "@app.route('/submit', methods=['POST'])\n",
    "def submit():\n",
    "    name = request.form['name']\n",
    "    age = request.form['age']\n",
    "    return f\"Received: Name={name}, Age={age}\"\n",
    "\n",
    "if __name__ == '__main__':\n",
    "    app.run(debug=True)\n",
    "Explanation:\n",
    "\n",
    "Accessing Form Data: request.form['name'] and request.form['age'] retrieve the data sent via a POST request."
   ]
  },
  {
   "cell_type": "code",
   "execution_count": null,
   "id": "3b8e5255-f26d-456d-b011-7fba29ef0a7e",
   "metadata": {},
   "outputs": [],
   "source": [
    "Q3. Why is redirect() Used in Flask?\n",
    "The redirect() function in Flask is used to redirect the user to a different URL. It's commonly used to navigate users to another route or page after processing a form or completing an action.\n",
    "\n",
    "Example\n",
    "python\n",
    "Copy code\n",
    "from flask import Flask, redirect, url_for\n",
    "\n",
    "app = Flask(__name__)\n",
    "\n",
    "@app.route('/')\n",
    "def home():\n",
    "    return 'Home Page'\n",
    "\n",
    "@app.route('/login')\n",
    "def login():\n",
    "    return 'Login Page'\n",
    "\n",
    "@app.route('/submit', methods=['POST'])\n",
    "def submit():\n",
    "    # After processing the form, redirect to the login page\n",
    "    return redirect(url_for('login'))\n",
    "\n",
    "if __name__ == '__main__':\n",
    "    app.run(debug=True)\n",
    "Explanation:\n",
    "\n",
    "Redirecting: redirect(url_for('login')) navigates the user to the login page after the form is submitted."
   ]
  },
  {
   "cell_type": "code",
   "execution_count": null,
   "id": "4fe7b5f8-f987-4bd6-90b9-0f418bd41a14",
   "metadata": {},
   "outputs": [],
   "source": [
    "Q4. What are templates in Flask? Why is the render_template() function used?\n",
    "Templates in Flask:\n",
    "Templates are files that contain static data as well as placeholders for dynamic content, allowing you to separate the presentation layer from the application logic.\n",
    "\n",
    "Why render_template() is Used:\n",
    "The render_template() function is used to render these template files with the dynamic data passed to them, enabling you to generate HTML pages dynamically.\n",
    "\n",
    "Example\n",
    "python\n",
    "Copy code\n",
    "from flask import Flask, render_template\n",
    "\n",
    "app = Flask(__name__)\n",
    "\n",
    "@app.route('/')\n",
    "def home():\n",
    "    return render_template('index.html', title='Home Page', username='Alice')\n",
    "\n",
    "if __name__ == '__main__':\n",
    "    app.run(debug=True)\n",
    "Explanation:\n",
    "\n",
    "Rendering a Template: render_template('index.html', title='Home Page', username='Alice') renders the index.html template with the provided dynamic data (title and username)."
   ]
  },
  {
   "cell_type": "code",
   "execution_count": null,
   "id": "ec2642bd-e78a-4153-ac97-6c97c4b99aa1",
   "metadata": {},
   "outputs": [],
   "source": [
    "Q5. Create a Simple API. Use Postman to Test It.\n",
    "To create a simple API in Flask, define a route that returns JSON data. Use Postman to test the API by sending a request to the defined route.\n",
    "\n",
    "Example\n",
    "python\n",
    "Copy code\n",
    "from flask import Flask, jsonify\n",
    "\n",
    "app = Flask(__name__)\n",
    "\n",
    "def api():\n",
    "    data = {'message': 'Hello, World!'}\n",
    "    return jsonify(data)\n",
    "\n",
    "if __name__ == '__main__':\n",
    "    app.run(debug=True)\n",
    "Explanation:\n",
    "\n",
    "Defining the API: The /api route returns a JSON response with a message.\n",
    "Testing with Postman: Use Postman to send a GET request to http://127.0.0.1:5000/api and see the JSON response {\"message\": \"Hello, World!\"}."
   ]
  },
  {
   "cell_type": "code",
   "execution_count": null,
   "id": "fac31ad4-5838-49ae-b171-c50e1aef169a",
   "metadata": {},
   "outputs": [],
   "source": []
  },
  {
   "cell_type": "code",
   "execution_count": null,
   "id": "3bfbddc3-bcce-46bc-b8d8-2a92b41818bc",
   "metadata": {},
   "outputs": [],
   "source": []
  },
  {
   "cell_type": "code",
   "execution_count": null,
   "id": "357b236e-f9ac-4f90-a838-fb2b84c67753",
   "metadata": {},
   "outputs": [],
   "source": []
  },
  {
   "cell_type": "code",
   "execution_count": null,
   "id": "8cadf325-970e-4193-8025-f8117e7331ca",
   "metadata": {},
   "outputs": [],
   "source": []
  },
  {
   "cell_type": "code",
   "execution_count": null,
   "id": "c67cac65-6b43-41bb-887e-d9e7d4694fb6",
   "metadata": {},
   "outputs": [],
   "source": []
  },
  {
   "cell_type": "code",
   "execution_count": null,
   "id": "393ef6b0-f5d3-41c7-a4c9-38c388487bd2",
   "metadata": {},
   "outputs": [],
   "source": []
  }
 ],
 "metadata": {
  "kernelspec": {
   "display_name": "Python 3 (ipykernel)",
   "language": "python",
   "name": "python3"
  },
  "language_info": {
   "codemirror_mode": {
    "name": "ipython",
    "version": 3
   },
   "file_extension": ".py",
   "mimetype": "text/x-python",
   "name": "python",
   "nbconvert_exporter": "python",
   "pygments_lexer": "ipython3",
   "version": "3.10.8"
  }
 },
 "nbformat": 4,
 "nbformat_minor": 5
}
